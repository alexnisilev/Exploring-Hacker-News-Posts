{
 "cells": [
  {
   "cell_type": "code",
   "execution_count": 13,
   "metadata": {
    "collapsed": false
   },
   "outputs": [],
   "source": [
    "'''\n",
    "In this project, we'll work with a data set of submissions \n",
    "to popular technology site Hacker News.\n",
    "\n",
    "Hacker news is a site started by the startup incubator Y \n",
    "Combinator, where user-submitted stories (known as 'posts') \n",
    "are voted and commented upon, similar to reddit. Hacker News \n",
    "is extremely popular in technology and startup circles, and\n",
    "posts that make it to the top of Hacker News' listings can \n",
    "get hundreds of thousands of visitors as a result.\n",
    "\n",
    "'''\n",
    "'open file make it list of lists'\n",
    "hn = open('hacker_news.csv')\n",
    "import csv\n",
    "hn = list(csv.reader(hn))\n"
   ]
  },
  {
   "cell_type": "code",
   "execution_count": 14,
   "metadata": {
    "collapsed": false
   },
   "outputs": [
    {
     "name": "stdout",
     "output_type": "stream",
     "text": [
      "[['12224879', 'Interactive Dynamic Video', 'http://www.interactivedynamicvideo.com/', '386', '52', 'ne0phyte', '8/4/2016 11:52'], ['10975351', 'How to Use Open Source and Shut the Fuck Up at the Same Time', 'http://hueniverse.com/2016/01/26/how-to-use-open-source-and-shut-the-fuck-up-at-the-same-time/', '39', '10', 'josep2', '1/26/2016 19:30'], ['11964716', \"Florida DJs May Face Felony for April Fools' Water Joke\", 'http://www.thewire.com/entertainment/2013/04/florida-djs-april-fools-water-joke/63798/', '2', '1', 'vezycash', '6/23/2016 22:20'], ['11919867', 'Technology ventures: From Idea to Enterprise', 'https://www.amazon.com/Technology-Ventures-Enterprise-Thomas-Byers/dp/0073523429', '3', '1', 'hswarna', '6/17/2016 0:01'], ['10301696', 'Note by Note: The Making of Steinway L1037 (2007)', 'http://www.nytimes.com/2007/11/07/movies/07stein.html?_r=0', '8', '2', 'walterbell', '9/30/2015 4:12']]\n"
     ]
    }
   ],
   "source": [
    "'''remove the headers'''\n",
    "headers = hn[0]\n",
    "hn = hn[1:]\n",
    "print (hn[:5])"
   ]
  },
  {
   "cell_type": "code",
   "execution_count": 15,
   "metadata": {
    "collapsed": false
   },
   "outputs": [
    {
     "name": "stdout",
     "output_type": "stream",
     "text": [
      "length askposts 1744 \n",
      " length showposts 1162 \n",
      " length other posts 17194\n"
     ]
    }
   ],
   "source": [
    "'creating three empty lists'\n",
    "ask_posts = []\n",
    "show_posts = []\n",
    "other_posts = []\n",
    "'looping for row in hn, creating column title'\n",
    "for row in hn:\n",
    "    title = row[1]\n",
    "    'making conditional statement'\n",
    "    if title.lower().startswith('ask hn'):\n",
    "        ask_posts.append(row)\n",
    "    elif title.lower().startswith('show hn'):\n",
    "        show_posts.append(row)\n",
    "    else:\n",
    "        other_posts.append(row)\n",
    "        \n",
    "'printing count of different posts'\n",
    "print('length askposts',len(ask_posts),'\\n', 'length showposts', len(show_posts),'\\n','length other posts',len(other_posts) )\n"
   ]
  },
  {
   "cell_type": "code",
   "execution_count": 16,
   "metadata": {
    "collapsed": false
   },
   "outputs": [
    {
     "name": "stdout",
     "output_type": "stream",
     "text": [
      "14.038417431192661\n",
      "10.31669535283993\n"
     ]
    },
    {
     "data": {
      "text/plain": [
       "'ask posts receive more comments than show posts'"
      ]
     },
     "execution_count": 16,
     "metadata": {},
     "output_type": "execute_result"
    }
   ],
   "source": [
    "total_ask_comments = 0\n",
    "\n",
    "for post in ask_posts:\n",
    "    total_ask_comments += int(post[4])\n",
    "    \n",
    "avg_ask_comments = total_ask_comments / len(ask_posts)\n",
    "print(avg_ask_comments)\n",
    "\n",
    "total_show_comments = 0\n",
    "\n",
    "for post in show_posts:\n",
    "    total_show_comments += int(post[4])\n",
    "\n",
    "    \n",
    "    \n",
    "avg_show_comments = total_show_comments / len(show_posts)\n",
    "print(avg_show_comments)\n",
    "\n",
    "'ask posts receive more comments than show posts'\n",
    "    "
   ]
  },
  {
   "cell_type": "code",
   "execution_count": 17,
   "metadata": {
    "collapsed": true
   },
   "outputs": [
    {
     "data": {
      "text/plain": [
       "{'00': 447,\n",
       " '01': 683,\n",
       " '02': 1381,\n",
       " '03': 421,\n",
       " '04': 337,\n",
       " '05': 464,\n",
       " '06': 397,\n",
       " '07': 267,\n",
       " '08': 492,\n",
       " '09': 251,\n",
       " '10': 793,\n",
       " '11': 641,\n",
       " '12': 687,\n",
       " '13': 1253,\n",
       " '14': 1416,\n",
       " '15': 4477,\n",
       " '16': 1814,\n",
       " '17': 1146,\n",
       " '18': 1439,\n",
       " '19': 1188,\n",
       " '20': 1722,\n",
       " '21': 1745,\n",
       " '22': 479,\n",
       " '23': 543}"
      ]
     },
     "execution_count": 17,
     "metadata": {},
     "output_type": "execute_result"
    }
   ],
   "source": [
    "import datetime as dt\n",
    "result_list = []\n",
    "for posts in ask_posts:\n",
    "    created_at = posts[6]\n",
    "    number_comments = int(posts[4])\n",
    "    result_list.append([created_at,number_comments])\n",
    "'creating two dictionaries'\n",
    "counts_by_hour = {}\n",
    "comments_by_hour = {}\n",
    "'making date format '\n",
    "date_format = \"%m/%d/%Y %H:%M\"\n",
    "for each_row in result_list:\n",
    "    date = each_row[0]\n",
    "    comment = each_row[1]\n",
    "    'stripping hour in date using strptime, then using dateformat'\n",
    "    time = dt.datetime.strptime(date, date_format).strftime(\"%H\")\n",
    "    'completing the dictionary'\n",
    "    if time in counts_by_hour:\n",
    "        comments_by_hour[time] += comment\n",
    "        counts_by_hour[time] += 1\n",
    "    else:\n",
    "        comments_by_hour[time] = comment\n",
    "        counts_by_hour[time] = 1\n",
    "\n",
    "comments_by_hour\n",
    "    "
   ]
  },
  {
   "cell_type": "code",
   "execution_count": 24,
   "metadata": {
    "collapsed": true
   },
   "outputs": [
    {
     "name": "stdout",
     "output_type": "stream",
     "text": [
      "[['19', 10.8], ['10', 13.440677966101696], ['18', 13.20183486238532], ['22', 6.746478873239437], ['02', 23.810344827586206], ['21', 16.009174311926607], ['16', 16.796296296296298], ['05', 10.08695652173913], ['17', 11.46], ['12', 9.41095890410959], ['20', 21.525], ['06', 9.022727272727273], ['01', 11.383333333333333], ['15', 38.5948275862069], ['03', 7.796296296296297], ['04', 7.170212765957447], ['08', 10.25], ['23', 7.985294117647059], ['13', 14.741176470588234], ['07', 7.852941176470588], ['00', 8.127272727272727], ['14', 13.233644859813085], ['09', 5.5777777777777775], ['11', 11.051724137931034]]\n"
     ]
    }
   ],
   "source": [
    "avg_by_hour = []\n",
    "for comments in comments_by_hour:\n",
    "    avg_by_hour.append([comments,comments_by_hour[comments]/counts_by_hour[comments]])\n",
    "print(avg_by_hour)"
   ]
  }
 ],
 "metadata": {
  "kernelspec": {
   "display_name": "Python 3",
   "language": "python",
   "name": "python3"
  },
  "language_info": {
   "codemirror_mode": {
    "name": "ipython",
    "version": 3
   },
   "file_extension": ".py",
   "mimetype": "text/x-python",
   "name": "python",
   "nbconvert_exporter": "python",
   "pygments_lexer": "ipython3",
   "version": "3.4.3"
  }
 },
 "nbformat": 4,
 "nbformat_minor": 2
}
